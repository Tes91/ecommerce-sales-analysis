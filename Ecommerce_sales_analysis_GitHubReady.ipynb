{
 "cells": [
  {
   "cell_type": "markdown",
   "id": "ce478923-b24c-491f-9577-0e5579dec92d",
   "metadata": {},
   "source": [
    " #  E-Commerce Sales Analysis\n",
    "\n",
    "This project analyzes retail sales data to uncover trends, customer behavior, and product performance using Python."
   ]
  },
  {
   "cell_type": "code",
   "execution_count": 2,
   "id": "c4db0522-e23c-4cb0-bc3a-e2db4277efcf",
   "metadata": {},
   "outputs": [],
   "source": [
    "import pandas as pd "
   ]
  },
  {
   "cell_type": "markdown",
   "id": "c51b3c5a-d1ef-4c1e-948f-53441cc38166",
   "metadata": {},
   "source": [
    "## Step: Loading the Dataset\n",
    "\n",
    "The dataset is stored locally in CSV format. To handle special characters in product descriptions, I used the `ISO-8859-1` encoding while reading the file into a pandas DataFrame.\n",
    "\n",
    "This step ensures the data is loaded cleanly and ready for inspection.\n"
   ]
  },
  {
   "cell_type": "code",
   "execution_count": 2,
   "id": "644587e1-e70a-468e-ae2e-9d5749a4aeea",
   "metadata": {},
   "outputs": [
    {
     "name": "stdout",
     "output_type": "stream",
     "text": [
      "  InvoiceNo StockCode                          Description  Quantity  \\\n",
      "0    536365    85123A   WHITE HANGING HEART T-LIGHT HOLDER         6   \n",
      "1    536365     71053                  WHITE METAL LANTERN         6   \n",
      "2    536365    84406B       CREAM CUPID HEARTS COAT HANGER         8   \n",
      "3    536365    84029G  KNITTED UNION FLAG HOT WATER BOTTLE         6   \n",
      "4    536365    84029E       RED WOOLLY HOTTIE WHITE HEART.         6   \n",
      "\n",
      "      InvoiceDate  UnitPrice  CustomerID         Country  \n",
      "0  12/1/2010 8:26       2.55     17850.0  United Kingdom  \n",
      "1  12/1/2010 8:26       3.39     17850.0  United Kingdom  \n",
      "2  12/1/2010 8:26       2.75     17850.0  United Kingdom  \n",
      "3  12/1/2010 8:26       3.39     17850.0  United Kingdom  \n",
      "4  12/1/2010 8:26       3.39     17850.0  United Kingdom  \n"
     ]
    }
   ],
   "source": [
    "# Loading the data\n",
    "file_path = r\"C:\\Users\\lizzy\\OneDrive\\Documents\\PROJECT\\Dataset for Project\\data.csv\"\n",
    "\n",
    "# Reading the data with ISO-8859-1 encoding\n",
    "df = pd.read_csv(file_path, encoding='ISO-8859-1')\n",
    "\n",
    "print(df.head())"
   ]
  },
  {
   "cell_type": "code",
   "execution_count": 3,
   "id": "3147f81c-fa13-489f-82a0-c75fd75d237b",
   "metadata": {},
   "outputs": [
    {
     "name": "stdout",
     "output_type": "stream",
     "text": [
      "       InvoiceNo StockCode                      Description  Quantity  \\\n",
      "541904    581587     22613      PACK OF 20 SPACEBOY NAPKINS        12   \n",
      "541905    581587     22899     CHILDREN'S APRON DOLLY GIRL          6   \n",
      "541906    581587     23254    CHILDRENS CUTLERY DOLLY GIRL          4   \n",
      "541907    581587     23255  CHILDRENS CUTLERY CIRCUS PARADE         4   \n",
      "541908    581587     22138    BAKING SET 9 PIECE RETROSPOT          3   \n",
      "\n",
      "            InvoiceDate  UnitPrice  CustomerID Country  \n",
      "541904  12/9/2011 12:50       0.85     12680.0  France  \n",
      "541905  12/9/2011 12:50       2.10     12680.0  France  \n",
      "541906  12/9/2011 12:50       4.15     12680.0  France  \n",
      "541907  12/9/2011 12:50       4.15     12680.0  France  \n",
      "541908  12/9/2011 12:50       4.95     12680.0  France  \n"
     ]
    }
   ],
   "source": [
    "print(df.tail())"
   ]
  },
  {
   "cell_type": "code",
   "execution_count": 4,
   "id": "d9586cf2-f627-4ffa-a584-809f968c3711",
   "metadata": {},
   "outputs": [
    {
     "name": "stdout",
     "output_type": "stream",
     "text": [
      "<class 'pandas.core.frame.DataFrame'>\n",
      "RangeIndex: 541909 entries, 0 to 541908\n",
      "Data columns (total 8 columns):\n",
      " #   Column       Non-Null Count   Dtype  \n",
      "---  ------       --------------   -----  \n",
      " 0   InvoiceNo    541909 non-null  object \n",
      " 1   StockCode    541909 non-null  object \n",
      " 2   Description  540455 non-null  object \n",
      " 3   Quantity     541909 non-null  int64  \n",
      " 4   InvoiceDate  541909 non-null  object \n",
      " 5   UnitPrice    541909 non-null  float64\n",
      " 6   CustomerID   406829 non-null  float64\n",
      " 7   Country      541909 non-null  object \n",
      "dtypes: float64(2), int64(1), object(5)\n",
      "memory usage: 33.1+ MB\n"
     ]
    }
   ],
   "source": [
    "# Understanding the structure of the dataset\n",
    "df.info()"
   ]
  },
  {
   "cell_type": "code",
   "execution_count": 5,
   "id": "cc89923c-fcf1-4b55-89bf-b4e6135345c6",
   "metadata": {
    "scrolled": true
   },
   "outputs": [
    {
     "data": {
      "text/html": [
       "<div>\n",
       "<style scoped>\n",
       "    .dataframe tbody tr th:only-of-type {\n",
       "        vertical-align: middle;\n",
       "    }\n",
       "\n",
       "    .dataframe tbody tr th {\n",
       "        vertical-align: top;\n",
       "    }\n",
       "\n",
       "    .dataframe thead th {\n",
       "        text-align: right;\n",
       "    }\n",
       "</style>\n",
       "<table border=\"1\" class=\"dataframe\">\n",
       "  <thead>\n",
       "    <tr style=\"text-align: right;\">\n",
       "      <th></th>\n",
       "      <th>Quantity</th>\n",
       "      <th>UnitPrice</th>\n",
       "      <th>CustomerID</th>\n",
       "    </tr>\n",
       "  </thead>\n",
       "  <tbody>\n",
       "    <tr>\n",
       "      <th>count</th>\n",
       "      <td>541909.000000</td>\n",
       "      <td>541909.000000</td>\n",
       "      <td>406829.000000</td>\n",
       "    </tr>\n",
       "    <tr>\n",
       "      <th>mean</th>\n",
       "      <td>9.552250</td>\n",
       "      <td>4.611114</td>\n",
       "      <td>15287.690570</td>\n",
       "    </tr>\n",
       "    <tr>\n",
       "      <th>std</th>\n",
       "      <td>218.081158</td>\n",
       "      <td>96.759853</td>\n",
       "      <td>1713.600303</td>\n",
       "    </tr>\n",
       "    <tr>\n",
       "      <th>min</th>\n",
       "      <td>-80995.000000</td>\n",
       "      <td>-11062.060000</td>\n",
       "      <td>12346.000000</td>\n",
       "    </tr>\n",
       "    <tr>\n",
       "      <th>25%</th>\n",
       "      <td>1.000000</td>\n",
       "      <td>1.250000</td>\n",
       "      <td>13953.000000</td>\n",
       "    </tr>\n",
       "    <tr>\n",
       "      <th>50%</th>\n",
       "      <td>3.000000</td>\n",
       "      <td>2.080000</td>\n",
       "      <td>15152.000000</td>\n",
       "    </tr>\n",
       "    <tr>\n",
       "      <th>75%</th>\n",
       "      <td>10.000000</td>\n",
       "      <td>4.130000</td>\n",
       "      <td>16791.000000</td>\n",
       "    </tr>\n",
       "    <tr>\n",
       "      <th>max</th>\n",
       "      <td>80995.000000</td>\n",
       "      <td>38970.000000</td>\n",
       "      <td>18287.000000</td>\n",
       "    </tr>\n",
       "  </tbody>\n",
       "</table>\n",
       "</div>"
      ],
      "text/plain": [
       "            Quantity      UnitPrice     CustomerID\n",
       "count  541909.000000  541909.000000  406829.000000\n",
       "mean        9.552250       4.611114   15287.690570\n",
       "std       218.081158      96.759853    1713.600303\n",
       "min    -80995.000000  -11062.060000   12346.000000\n",
       "25%         1.000000       1.250000   13953.000000\n",
       "50%         3.000000       2.080000   15152.000000\n",
       "75%        10.000000       4.130000   16791.000000\n",
       "max     80995.000000   38970.000000   18287.000000"
      ]
     },
     "execution_count": 5,
     "metadata": {},
     "output_type": "execute_result"
    }
   ],
   "source": [
    "# Summary statistics for numeric columns in the dataset\n",
    "df.describe()"
   ]
  },
  {
   "cell_type": "code",
   "execution_count": 6,
   "id": "ab3e532f-41d7-43f7-9167-ba7e8382bcec",
   "metadata": {},
   "outputs": [
    {
     "data": {
      "text/plain": [
       "InvoiceNo       object\n",
       "StockCode       object\n",
       "Description     object\n",
       "Quantity         int64\n",
       "InvoiceDate     object\n",
       "UnitPrice      float64\n",
       "CustomerID     float64\n",
       "Country         object\n",
       "dtype: object"
      ]
     },
     "execution_count": 6,
     "metadata": {},
     "output_type": "execute_result"
    }
   ],
   "source": [
    "df.dtypes"
   ]
  },
  {
   "cell_type": "code",
   "execution_count": 7,
   "id": "27d7efc2-7aab-4709-ab4b-8e2b76f41b66",
   "metadata": {},
   "outputs": [
    {
     "data": {
      "text/plain": [
       "(541909, 8)"
      ]
     },
     "execution_count": 7,
     "metadata": {},
     "output_type": "execute_result"
    }
   ],
   "source": [
    "df.shape"
   ]
  },
  {
   "cell_type": "code",
   "execution_count": 8,
   "id": "eec123d2-6ba4-4e8f-8935-c3231e440c6b",
   "metadata": {
    "scrolled": true
   },
   "outputs": [
    {
     "data": {
      "text/html": [
       "<div>\n",
       "<style scoped>\n",
       "    .dataframe tbody tr th:only-of-type {\n",
       "        vertical-align: middle;\n",
       "    }\n",
       "\n",
       "    .dataframe tbody tr th {\n",
       "        vertical-align: top;\n",
       "    }\n",
       "\n",
       "    .dataframe thead th {\n",
       "        text-align: right;\n",
       "    }\n",
       "</style>\n",
       "<table border=\"1\" class=\"dataframe\">\n",
       "  <thead>\n",
       "    <tr style=\"text-align: right;\">\n",
       "      <th></th>\n",
       "      <th>InvoiceNo</th>\n",
       "      <th>StockCode</th>\n",
       "      <th>Description</th>\n",
       "      <th>Quantity</th>\n",
       "      <th>InvoiceDate</th>\n",
       "      <th>UnitPrice</th>\n",
       "      <th>CustomerID</th>\n",
       "      <th>Country</th>\n",
       "    </tr>\n",
       "  </thead>\n",
       "  <tbody>\n",
       "    <tr>\n",
       "      <th>0</th>\n",
       "      <td>False</td>\n",
       "      <td>False</td>\n",
       "      <td>False</td>\n",
       "      <td>False</td>\n",
       "      <td>False</td>\n",
       "      <td>False</td>\n",
       "      <td>False</td>\n",
       "      <td>False</td>\n",
       "    </tr>\n",
       "    <tr>\n",
       "      <th>1</th>\n",
       "      <td>False</td>\n",
       "      <td>False</td>\n",
       "      <td>False</td>\n",
       "      <td>False</td>\n",
       "      <td>False</td>\n",
       "      <td>False</td>\n",
       "      <td>False</td>\n",
       "      <td>False</td>\n",
       "    </tr>\n",
       "    <tr>\n",
       "      <th>2</th>\n",
       "      <td>False</td>\n",
       "      <td>False</td>\n",
       "      <td>False</td>\n",
       "      <td>False</td>\n",
       "      <td>False</td>\n",
       "      <td>False</td>\n",
       "      <td>False</td>\n",
       "      <td>False</td>\n",
       "    </tr>\n",
       "    <tr>\n",
       "      <th>3</th>\n",
       "      <td>False</td>\n",
       "      <td>False</td>\n",
       "      <td>False</td>\n",
       "      <td>False</td>\n",
       "      <td>False</td>\n",
       "      <td>False</td>\n",
       "      <td>False</td>\n",
       "      <td>False</td>\n",
       "    </tr>\n",
       "    <tr>\n",
       "      <th>4</th>\n",
       "      <td>False</td>\n",
       "      <td>False</td>\n",
       "      <td>False</td>\n",
       "      <td>False</td>\n",
       "      <td>False</td>\n",
       "      <td>False</td>\n",
       "      <td>False</td>\n",
       "      <td>False</td>\n",
       "    </tr>\n",
       "    <tr>\n",
       "      <th>...</th>\n",
       "      <td>...</td>\n",
       "      <td>...</td>\n",
       "      <td>...</td>\n",
       "      <td>...</td>\n",
       "      <td>...</td>\n",
       "      <td>...</td>\n",
       "      <td>...</td>\n",
       "      <td>...</td>\n",
       "    </tr>\n",
       "    <tr>\n",
       "      <th>541904</th>\n",
       "      <td>False</td>\n",
       "      <td>False</td>\n",
       "      <td>False</td>\n",
       "      <td>False</td>\n",
       "      <td>False</td>\n",
       "      <td>False</td>\n",
       "      <td>False</td>\n",
       "      <td>False</td>\n",
       "    </tr>\n",
       "    <tr>\n",
       "      <th>541905</th>\n",
       "      <td>False</td>\n",
       "      <td>False</td>\n",
       "      <td>False</td>\n",
       "      <td>False</td>\n",
       "      <td>False</td>\n",
       "      <td>False</td>\n",
       "      <td>False</td>\n",
       "      <td>False</td>\n",
       "    </tr>\n",
       "    <tr>\n",
       "      <th>541906</th>\n",
       "      <td>False</td>\n",
       "      <td>False</td>\n",
       "      <td>False</td>\n",
       "      <td>False</td>\n",
       "      <td>False</td>\n",
       "      <td>False</td>\n",
       "      <td>False</td>\n",
       "      <td>False</td>\n",
       "    </tr>\n",
       "    <tr>\n",
       "      <th>541907</th>\n",
       "      <td>False</td>\n",
       "      <td>False</td>\n",
       "      <td>False</td>\n",
       "      <td>False</td>\n",
       "      <td>False</td>\n",
       "      <td>False</td>\n",
       "      <td>False</td>\n",
       "      <td>False</td>\n",
       "    </tr>\n",
       "    <tr>\n",
       "      <th>541908</th>\n",
       "      <td>False</td>\n",
       "      <td>False</td>\n",
       "      <td>False</td>\n",
       "      <td>False</td>\n",
       "      <td>False</td>\n",
       "      <td>False</td>\n",
       "      <td>False</td>\n",
       "      <td>False</td>\n",
       "    </tr>\n",
       "  </tbody>\n",
       "</table>\n",
       "<p>541909 rows × 8 columns</p>\n",
       "</div>"
      ],
      "text/plain": [
       "        InvoiceNo  StockCode  Description  Quantity  InvoiceDate  UnitPrice  \\\n",
       "0           False      False        False     False        False      False   \n",
       "1           False      False        False     False        False      False   \n",
       "2           False      False        False     False        False      False   \n",
       "3           False      False        False     False        False      False   \n",
       "4           False      False        False     False        False      False   \n",
       "...           ...        ...          ...       ...          ...        ...   \n",
       "541904      False      False        False     False        False      False   \n",
       "541905      False      False        False     False        False      False   \n",
       "541906      False      False        False     False        False      False   \n",
       "541907      False      False        False     False        False      False   \n",
       "541908      False      False        False     False        False      False   \n",
       "\n",
       "        CustomerID  Country  \n",
       "0            False    False  \n",
       "1            False    False  \n",
       "2            False    False  \n",
       "3            False    False  \n",
       "4            False    False  \n",
       "...            ...      ...  \n",
       "541904       False    False  \n",
       "541905       False    False  \n",
       "541906       False    False  \n",
       "541907       False    False  \n",
       "541908       False    False  \n",
       "\n",
       "[541909 rows x 8 columns]"
      ]
     },
     "execution_count": 8,
     "metadata": {},
     "output_type": "execute_result"
    }
   ],
   "source": [
    "df.isna()"
   ]
  },
  {
   "cell_type": "markdown",
   "id": "bd91c8a6-b5f8-4b25-b7af-09d8bb2a7f33",
   "metadata": {},
   "source": [
    "## Step: Data Quality Check\n",
    "\n",
    "Before performing any analysis, it’s important to assess the quality of the dataset. This step checks for:\n",
    "\n",
    "- **Missing values** in each column\n",
    "- **Invalid `Quantity` values** (less than or equal to 0), which may indicate returns or data entry errors\n",
    "- **Invalid `UnitPrice` values** (less than or equal to 0), which may represent incorrect or promotional pricing\n",
    "\n",
    "Identifying these issues early helps ensure the accuracy of later insights and guides data cleaning decisions.\n"
   ]
  },
  {
   "cell_type": "code",
   "execution_count": 9,
   "id": "14ba71e0-e399-43ab-9b48-180a7a138b5f",
   "metadata": {},
   "outputs": [
    {
     "name": "stdout",
     "output_type": "stream",
     "text": [
      "Missing values per column:\n",
      "\n",
      "InvoiceNo           0\n",
      "StockCode           0\n",
      "Description      1454\n",
      "Quantity            0\n",
      "InvoiceDate         0\n",
      "UnitPrice           0\n",
      "CustomerID     135080\n",
      "Country             0\n",
      "dtype: int64\n",
      "\n",
      "Row with Quantity <= 0:\n",
      "\n",
      "(10624, 8)\n",
      "\n",
      "Rows with UnitPrice <=0:\n",
      "\n",
      "(2517, 8)\n"
     ]
    }
   ],
   "source": [
    "# Check for missing values in each column\n",
    "print(\"Missing values per column:\\n\")\n",
    "print(df.isnull().sum())\n",
    "\n",
    "# Check how many rows have Quantity <= 0\n",
    "print(\"\\nRow with Quantity <= 0:\\n\")\n",
    "print(df[df['Quantity'] <= 0].shape)\n",
    "\n",
    "# Check how many rows have UnitPrice <= 0\n",
    "print(\"\\nRows with UnitPrice <=0:\\n\")\n",
    "print(df[df[\"UnitPrice\"] <= 0].shape)"
   ]
  },
  {
   "cell_type": "markdown",
   "id": "c2dde27b-fd86-4fec-9ca3-95e718f5c64a",
   "metadata": {},
   "source": [
    "##  Data Cleaning\n",
    "\n",
    "Before analysis, the dataset must be cleaned to ensure accuracy and reliability. This includes:\n",
    "\n",
    "- **Fixing data types** such as converting `InvoiceDate` to datetime\n",
    "- **Removing invalid rows** where `Quantity` or `UnitPrice` is less than or equal to 0\n",
    "- **Handling missing values**, especially in key columns like `CustomerID` and `Description`\n",
    "\n",
    "These steps ensure that the insights derived from the dataset are based on valid and meaningful records.\n"
   ]
  },
  {
   "cell_type": "code",
   "execution_count": 10,
   "id": "27d16e88-fa5e-4b4f-992f-c9447d69318d",
   "metadata": {},
   "outputs": [],
   "source": [
    "# Convert InvoiceDate to datetime\n",
    "df['InvoiceDate'] = pd.to_datetime(df['InvoiceDate']) "
   ]
  },
  {
   "cell_type": "code",
   "execution_count": 11,
   "id": "27374097-6043-4291-829a-56dbd225fd65",
   "metadata": {},
   "outputs": [
    {
     "name": "stdout",
     "output_type": "stream",
     "text": [
      "<class 'pandas.core.frame.DataFrame'>\n",
      "RangeIndex: 541909 entries, 0 to 541908\n",
      "Data columns (total 8 columns):\n",
      " #   Column       Non-Null Count   Dtype         \n",
      "---  ------       --------------   -----         \n",
      " 0   InvoiceNo    541909 non-null  object        \n",
      " 1   StockCode    541909 non-null  object        \n",
      " 2   Description  540455 non-null  object        \n",
      " 3   Quantity     541909 non-null  int64         \n",
      " 4   InvoiceDate  541909 non-null  datetime64[ns]\n",
      " 5   UnitPrice    541909 non-null  float64       \n",
      " 6   CustomerID   406829 non-null  float64       \n",
      " 7   Country      541909 non-null  object        \n",
      "dtypes: datetime64[ns](1), float64(2), int64(1), object(4)\n",
      "memory usage: 33.1+ MB\n"
     ]
    }
   ],
   "source": [
    "# Confirm the change of the data type\n",
    "df.info()"
   ]
  },
  {
   "cell_type": "code",
   "execution_count": 12,
   "id": "636683f7-8baa-4dd2-a707-817f9de322ad",
   "metadata": {},
   "outputs": [
    {
     "name": "stdout",
     "output_type": "stream",
     "text": [
      "Original shape: (541909, 8)\n",
      "Cleaned shape: (530104, 8)\n"
     ]
    }
   ],
   "source": [
    "# Remove rows where Quantity or UnitPrice is less than or equal to zero\n",
    "df_cleaned = df[(df['Quantity'] > 0) & (df['UnitPrice'] > 0)].copy()\n",
    "# Confirm the new shape\n",
    "print(\"Original shape:\", df.shape)\n",
    "print(\"Cleaned shape:\", df_cleaned.shape)"
   ]
  },
  {
   "cell_type": "code",
   "execution_count": 13,
   "id": "c3b3c08b-d30f-40b2-b72b-987e8fd27712",
   "metadata": {},
   "outputs": [
    {
     "name": "stdout",
     "output_type": "stream",
     "text": [
      "132220\n"
     ]
    }
   ],
   "source": [
    "# Check how many CustomerID values are missing\n",
    "print(df_cleaned['CustomerID'].isnull().sum())\n",
    "# Convert CustomerID to string \n",
    "df_cleaned['CustomerID'] = df_cleaned['CustomerID'].astype('str')\n",
    "# Fill missing values with unknown\n",
    "df_cleaned['CustomerID'] =df_cleaned['CustomerID'].replace('nan', 'Unknown')"
   ]
  },
  {
   "cell_type": "code",
   "execution_count": 14,
   "id": "27292a00-5a9e-454a-a477-f59dad4c0e95",
   "metadata": {},
   "outputs": [
    {
     "name": "stdout",
     "output_type": "stream",
     "text": [
      "Missing values:\n",
      " InvoiceNo      0\n",
      "StockCode      0\n",
      "Description    0\n",
      "Quantity       0\n",
      "InvoiceDate    0\n",
      "UnitPrice      0\n",
      "CustomerID     0\n",
      "Country        0\n",
      "dtype: int64\n",
      "Invalid Quantity rows: 0\n",
      "Invalid UnitPrice rows: 0\n",
      "Missing CustomerIDs: 0\n",
      "Unique CustomerIDs: 4339\n"
     ]
    }
   ],
   "source": [
    "# Check for missing values\n",
    "print(\"Missing values:\\n\", df_cleaned.isnull().sum())\n",
    "\n",
    "# Confirm no invalid Quantity or UnitPrice\n",
    "print(\"Invalid Quantity rows:\", df_cleaned[df_cleaned['Quantity'] <= 0].shape[0])\n",
    "print(\"Invalid UnitPrice rows:\", df_cleaned[df_cleaned['UnitPrice'] <= 0].shape[0])\n",
    "\n",
    "# Confirm CustomerID cleanup\n",
    "print(\"Missing CustomerIDs:\", df_cleaned['CustomerID'].isnull().sum())\n",
    "print(\"Unique CustomerIDs:\", df_cleaned['CustomerID'].nunique())"
   ]
  },
  {
   "cell_type": "code",
   "execution_count": 15,
   "id": "3be1bf0d-055a-4e30-9826-3ccf04d02401",
   "metadata": {},
   "outputs": [
    {
     "data": {
      "text/html": [
       "<div>\n",
       "<style scoped>\n",
       "    .dataframe tbody tr th:only-of-type {\n",
       "        vertical-align: middle;\n",
       "    }\n",
       "\n",
       "    .dataframe tbody tr th {\n",
       "        vertical-align: top;\n",
       "    }\n",
       "\n",
       "    .dataframe thead th {\n",
       "        text-align: right;\n",
       "    }\n",
       "</style>\n",
       "<table border=\"1\" class=\"dataframe\">\n",
       "  <thead>\n",
       "    <tr style=\"text-align: right;\">\n",
       "      <th></th>\n",
       "      <th>InvoiceNo</th>\n",
       "      <th>StockCode</th>\n",
       "      <th>Description</th>\n",
       "      <th>Quantity</th>\n",
       "      <th>InvoiceDate</th>\n",
       "      <th>UnitPrice</th>\n",
       "      <th>CustomerID</th>\n",
       "      <th>Country</th>\n",
       "    </tr>\n",
       "  </thead>\n",
       "  <tbody>\n",
       "    <tr>\n",
       "      <th>0</th>\n",
       "      <td>536365</td>\n",
       "      <td>85123A</td>\n",
       "      <td>WHITE HANGING HEART T-LIGHT HOLDER</td>\n",
       "      <td>6</td>\n",
       "      <td>2010-12-01 08:26:00</td>\n",
       "      <td>2.55</td>\n",
       "      <td>17850.0</td>\n",
       "      <td>United Kingdom</td>\n",
       "    </tr>\n",
       "    <tr>\n",
       "      <th>1</th>\n",
       "      <td>536365</td>\n",
       "      <td>71053</td>\n",
       "      <td>WHITE METAL LANTERN</td>\n",
       "      <td>6</td>\n",
       "      <td>2010-12-01 08:26:00</td>\n",
       "      <td>3.39</td>\n",
       "      <td>17850.0</td>\n",
       "      <td>United Kingdom</td>\n",
       "    </tr>\n",
       "    <tr>\n",
       "      <th>2</th>\n",
       "      <td>536365</td>\n",
       "      <td>84406B</td>\n",
       "      <td>CREAM CUPID HEARTS COAT HANGER</td>\n",
       "      <td>8</td>\n",
       "      <td>2010-12-01 08:26:00</td>\n",
       "      <td>2.75</td>\n",
       "      <td>17850.0</td>\n",
       "      <td>United Kingdom</td>\n",
       "    </tr>\n",
       "    <tr>\n",
       "      <th>3</th>\n",
       "      <td>536365</td>\n",
       "      <td>84029G</td>\n",
       "      <td>KNITTED UNION FLAG HOT WATER BOTTLE</td>\n",
       "      <td>6</td>\n",
       "      <td>2010-12-01 08:26:00</td>\n",
       "      <td>3.39</td>\n",
       "      <td>17850.0</td>\n",
       "      <td>United Kingdom</td>\n",
       "    </tr>\n",
       "    <tr>\n",
       "      <th>4</th>\n",
       "      <td>536365</td>\n",
       "      <td>84029E</td>\n",
       "      <td>RED WOOLLY HOTTIE WHITE HEART.</td>\n",
       "      <td>6</td>\n",
       "      <td>2010-12-01 08:26:00</td>\n",
       "      <td>3.39</td>\n",
       "      <td>17850.0</td>\n",
       "      <td>United Kingdom</td>\n",
       "    </tr>\n",
       "  </tbody>\n",
       "</table>\n",
       "</div>"
      ],
      "text/plain": [
       "  InvoiceNo StockCode                          Description  Quantity  \\\n",
       "0    536365    85123A   WHITE HANGING HEART T-LIGHT HOLDER         6   \n",
       "1    536365     71053                  WHITE METAL LANTERN         6   \n",
       "2    536365    84406B       CREAM CUPID HEARTS COAT HANGER         8   \n",
       "3    536365    84029G  KNITTED UNION FLAG HOT WATER BOTTLE         6   \n",
       "4    536365    84029E       RED WOOLLY HOTTIE WHITE HEART.         6   \n",
       "\n",
       "          InvoiceDate  UnitPrice CustomerID         Country  \n",
       "0 2010-12-01 08:26:00       2.55    17850.0  United Kingdom  \n",
       "1 2010-12-01 08:26:00       3.39    17850.0  United Kingdom  \n",
       "2 2010-12-01 08:26:00       2.75    17850.0  United Kingdom  \n",
       "3 2010-12-01 08:26:00       3.39    17850.0  United Kingdom  \n",
       "4 2010-12-01 08:26:00       3.39    17850.0  United Kingdom  "
      ]
     },
     "execution_count": 15,
     "metadata": {},
     "output_type": "execute_result"
    }
   ],
   "source": [
    "df_cleaned.head()"
   ]
  },
  {
   "cell_type": "code",
   "execution_count": 31,
   "id": "af45498f-3708-4be1-b542-3fc95f42e6e3",
   "metadata": {},
   "outputs": [
    {
     "data": {
      "text/plain": [
       "array(['United Kingdom', 'France', 'Australia', 'Netherlands', 'Germany',\n",
       "       'Norway', 'EIRE', 'Switzerland', 'Spain', 'Poland', 'Portugal',\n",
       "       'Italy', 'Belgium', 'Lithuania', 'Japan', 'Iceland',\n",
       "       'Channel Islands', 'Denmark', 'Cyprus', 'Sweden', 'Finland',\n",
       "       'Austria', 'Bahrain', 'Israel', 'Greece', 'Hong Kong', 'Singapore',\n",
       "       'Lebanon', 'United Arab Emirates', 'Saudi Arabia',\n",
       "       'Czech Republic', 'Canada', 'Unspecified', 'Brazil', 'USA',\n",
       "       'European Community', 'Malta', 'RSA'], dtype=object)"
      ]
     },
     "execution_count": 31,
     "metadata": {},
     "output_type": "execute_result"
    }
   ],
   "source": [
    "# Showing the unique country in the data\n",
    "df_cleaned['Country'].unique()"
   ]
  },
  {
   "cell_type": "markdown",
   "id": "e8b94f20-02e4-4718-842b-18f0118a164c",
   "metadata": {},
   "source": [
    "## Feature Engineering\n",
    "\n",
    "To support time-based analysis and uncover temporal patterns in customer behavior, I created several new features from the `InvoiceDate` column:\n",
    "\n",
    "- `Year`: Extracts the transaction year\n",
    "- `Month`: Extracts the month (1 to 12)\n",
    "- `Day`: Extracts the day of the month\n",
    "- `Weekday`: Returns the day of the week (e.g., Monday, Tuesday)\n",
    "- `Hour`: Extracts the hour of purchase (0–23)\n",
    "\n",
    "These engineered features allow for more granular analysis of seasonal trends, weekly activity patterns, and peak transaction hours."
   ]
  },
  {
   "cell_type": "code",
   "execution_count": 16,
   "id": "08d6f3fc-947d-497a-ac57-312f55e3b9a6",
   "metadata": {},
   "outputs": [
    {
     "data": {
      "text/html": [
       "<div>\n",
       "<style scoped>\n",
       "    .dataframe tbody tr th:only-of-type {\n",
       "        vertical-align: middle;\n",
       "    }\n",
       "\n",
       "    .dataframe tbody tr th {\n",
       "        vertical-align: top;\n",
       "    }\n",
       "\n",
       "    .dataframe thead th {\n",
       "        text-align: right;\n",
       "    }\n",
       "</style>\n",
       "<table border=\"1\" class=\"dataframe\">\n",
       "  <thead>\n",
       "    <tr style=\"text-align: right;\">\n",
       "      <th></th>\n",
       "      <th>InvoiceDate</th>\n",
       "      <th>Year</th>\n",
       "      <th>Month</th>\n",
       "      <th>Day</th>\n",
       "      <th>Weekday</th>\n",
       "      <th>Hour</th>\n",
       "    </tr>\n",
       "  </thead>\n",
       "  <tbody>\n",
       "    <tr>\n",
       "      <th>0</th>\n",
       "      <td>2010-12-01 08:26:00</td>\n",
       "      <td>2010</td>\n",
       "      <td>12</td>\n",
       "      <td>1</td>\n",
       "      <td>Wednesday</td>\n",
       "      <td>8</td>\n",
       "    </tr>\n",
       "    <tr>\n",
       "      <th>1</th>\n",
       "      <td>2010-12-01 08:26:00</td>\n",
       "      <td>2010</td>\n",
       "      <td>12</td>\n",
       "      <td>1</td>\n",
       "      <td>Wednesday</td>\n",
       "      <td>8</td>\n",
       "    </tr>\n",
       "    <tr>\n",
       "      <th>2</th>\n",
       "      <td>2010-12-01 08:26:00</td>\n",
       "      <td>2010</td>\n",
       "      <td>12</td>\n",
       "      <td>1</td>\n",
       "      <td>Wednesday</td>\n",
       "      <td>8</td>\n",
       "    </tr>\n",
       "    <tr>\n",
       "      <th>3</th>\n",
       "      <td>2010-12-01 08:26:00</td>\n",
       "      <td>2010</td>\n",
       "      <td>12</td>\n",
       "      <td>1</td>\n",
       "      <td>Wednesday</td>\n",
       "      <td>8</td>\n",
       "    </tr>\n",
       "    <tr>\n",
       "      <th>4</th>\n",
       "      <td>2010-12-01 08:26:00</td>\n",
       "      <td>2010</td>\n",
       "      <td>12</td>\n",
       "      <td>1</td>\n",
       "      <td>Wednesday</td>\n",
       "      <td>8</td>\n",
       "    </tr>\n",
       "  </tbody>\n",
       "</table>\n",
       "</div>"
      ],
      "text/plain": [
       "          InvoiceDate  Year  Month  Day    Weekday  Hour\n",
       "0 2010-12-01 08:26:00  2010     12    1  Wednesday     8\n",
       "1 2010-12-01 08:26:00  2010     12    1  Wednesday     8\n",
       "2 2010-12-01 08:26:00  2010     12    1  Wednesday     8\n",
       "3 2010-12-01 08:26:00  2010     12    1  Wednesday     8\n",
       "4 2010-12-01 08:26:00  2010     12    1  Wednesday     8"
      ]
     },
     "execution_count": 16,
     "metadata": {},
     "output_type": "execute_result"
    }
   ],
   "source": [
    "# Extract time-based features from InvoiceDate\n",
    "df_cleaned['Year'] = df_cleaned['InvoiceDate'].dt.year\n",
    "df_cleaned['Month'] = df_cleaned['InvoiceDate'].dt.month\n",
    "df_cleaned['Day'] = df_cleaned['InvoiceDate'].dt.day\n",
    "df_cleaned['Weekday'] = df_cleaned['InvoiceDate'].dt.day_name()\n",
    "df_cleaned['Hour'] = df_cleaned['InvoiceDate'].dt.hour\n",
    "\n",
    "# Preview the new columns\n",
    "df_cleaned[['InvoiceDate', 'Year', 'Month', 'Day', 'Weekday', 'Hour']].head()"
   ]
  },
  {
   "cell_type": "markdown",
   "id": "b73d9c89-cf48-494f-a5c3-089f3d6f7d83",
   "metadata": {},
   "source": [
    "## Monthly Sales Trend\n",
    "\n",
    "I grouped total revenue by `Year` and `Month` to understand how sales change over time. This analysis helps identify:\n",
    "\n",
    "- **Seasonal patterns**, such as holiday peaks in November and December\n",
    "- **Growth trends** across months and years\n",
    "- **Low-performing periods** that may benefit from targeted marketing\n",
    "\n",
    "I also created a `Period` column in `datetime` format to enable accurate time series plotting."
   ]
  },
  {
   "cell_type": "code",
   "execution_count": 17,
   "id": "eb972e14-a38d-47b9-a2bd-328ca2bf5920",
   "metadata": {},
   "outputs": [],
   "source": [
    "# Create Sales column: revenue = quantity * unit price\n",
    "df_cleaned['Sales'] = df_cleaned['Quantity'] * df_cleaned['UnitPrice']"
   ]
  },
  {
   "cell_type": "code",
   "execution_count": 18,
   "id": "57a5964b-7038-4dc0-a7e6-bfe4c144fca5",
   "metadata": {},
   "outputs": [],
   "source": [
    "# Monthly Sales Trend Analysis\n",
    "# Group by Year and Month and calculate total sales\n",
    "monthly_sales = df_cleaned.groupby(['Year', 'Month'])['Sales'].sum().reset_index()\n",
    "\n",
    "# Create a datetime Period column for plotting\n",
    "monthly_sales['Period'] = pd.to_datetime(monthly_sales[['Year', 'Month']].assign(DAY=1))"
   ]
  },
  {
   "cell_type": "code",
   "execution_count": 19,
   "id": "2958df5b-3485-4cd2-b099-fddf5b867b89",
   "metadata": {},
   "outputs": [
    {
     "data": {
      "image/png": "[encoded data removed]",
      "text/plain": [
       "<Figure size 1200x600 with 1 Axes>"
      ]
     },
     "metadata": {},
     "output_type": "display_data"
    }
   ],
   "source": [
    "import matplotlib.pyplot as plt\n",
    "\n",
    "plt.figure(figsize=(12, 6))\n",
    "plt.plot(monthly_sales['Period'], monthly_sales['Sales'], marker='o')\n",
    "\n",
    "plt.title('Monthly Sales Trend', fontsize=14)\n",
    "plt.xlabel('Month', fontsize=12)\n",
    "plt.ylabel('Total Sales (\\u00A3)', fontsize=12)\n",
    "plt.grid(True)\n",
    "plt.tight_layout()\n",
    "plt.show()"
   ]
  },
  {
   "cell_type": "markdown",
   "id": "2133a100-0a72-490e-955d-03dc086ff830",
   "metadata": {},
   "source": [
    "## Weekly Sales Trend\n",
    "\n",
    "This analysis uses the' Weekday' column created earlier to explore how sales vary by day of the week. Grouping total sales by weekday helps to:\n",
    "\n",
    "- Identify which days generate the **highest and lowest revenue**\n",
    "- Understand **shopping behavior patterns** (e.g., do customers shop more on weekdays or weekends?)\n",
    "- Optimize **marketing campaigns** and staffing for peak days\n",
    "\n",
    "The results are visualized in a bar chart to compare total revenue across all seven days of the week."
   ]
  },
  {
   "cell_type": "code",
   "execution_count": 20,
   "id": "4d61c4c6-26ac-449b-bc15-0e67573210a1",
   "metadata": {},
   "outputs": [],
   "source": [
    "# Weekly Sales Analysis \n",
    "# group by Weekday and sum total sales \n",
    "weekday_sales = df_cleaned.groupby('Weekday')['Sales'].sum().reset_index()"
   ]
  },
  {
   "cell_type": "code",
   "execution_count": 21,
   "id": "73cf12d1-16f4-452d-a637-d3da9e3f1d15",
   "metadata": {},
   "outputs": [],
   "source": [
    "# Define the correct weekday order \n",
    "weekday_order =['Monday', 'Tuesday', 'Wednesday', 'Thursday', 'Friday', 'Saturday', 'Sunday']\n",
    "\n",
    "#Convert to a categorical type to preserve order in the chart\n",
    "weekday_sales['Weekday'] = pd.Categorical(weekday_sales['Weekday'], categories=weekday_order, ordered=True)\n",
    "\n",
    "# Sort the DataFrame\n",
    "weekday_sales = weekday_sales.sort_values('Weekday')"
   ]
  },
  {
   "cell_type": "code",
   "execution_count": 22,
   "id": "7305ae4e-fe7f-4d8f-aa09-88b18f8f6e9a",
   "metadata": {
    "scrolled": true
   },
   "outputs": [
    {
     "data": {
      "image/png": "[encoded data removed]",
      "text/plain": [
       "<Figure size 1000x500 with 1 Axes>"
      ]
     },
     "metadata": {},
     "output_type": "display_data"
    }
   ],
   "source": [
    "# Plot Weekly Sales \n",
    "import matplotlib.pyplot as plt\n",
    "\n",
    "plt.figure(figsize=(10, 5))\n",
    "plt.bar(weekday_sales['Weekday'], weekday_sales['Sales'], color = 'skyblue')\n",
    "\n",
    "plt.title('Total Sales by Day of the Week', fontsize=14)\n",
    "plt.xlabel('Day of Week', fontsize=12) \n",
    "plt.ylabel('Total Sales (\\u00A3)', fontsize=12) \n",
    "plt.tight_layout()\n",
    "plt.show()"
   ]
  },
  {
   "cell_type": "markdown",
   "id": "4a3e603c-941b-45e2-b331-1fb00b9b2e53",
   "metadata": {},
   "source": [
    "## Top-Selling Products\n",
    "\n",
    "To identify which products contribute most to revenue, I grouped the dataset by `Description` and calculated each product's total Sales.\n",
    "\n",
    "This analysis helps reveal:\n",
    "- **Customer preferences** based on what they buy most\n",
    "- The **best-performing products** in terms of revenue\n",
    "- Opportunities to promote, bundle, or restock high-demand items\n",
    "\n",
    "The top 10 products are visualized in a horizontal bar chart."
   ]
  },
  {
   "cell_type": "code",
   "execution_count": 27,
   "id": "9eaee29f-e9f9-4ba9-be1c-43288ffc20f2",
   "metadata": {},
   "outputs": [
    {
     "name": "stdout",
     "output_type": "stream",
     "text": [
      "                             Description      Sales\n",
      "1067                      DOTCOM POSTAGE  206248.77\n",
      "2853            REGENCY CAKESTAND 3 TIER  174484.74\n",
      "2387         PAPER CRAFT , LITTLE BIRDIE  168469.60\n",
      "3844  WHITE HANGING HEART T-LIGHT HOLDER  106292.77\n",
      "2413                       PARTY BUNTING   99504.33\n",
      "1816             JUMBO BAG RED RETROSPOT   94340.05\n",
      "2052      MEDIUM CERAMIC TOP STORAGE JAR   81700.92\n",
      "2192                              Manual   78112.82\n",
      "2692                             POSTAGE   78101.88\n",
      "2741                  RABBIT NIGHT LIGHT   66964.99\n"
     ]
    }
   ],
   "source": [
    "# Group by product description and sum total sales \n",
    "top_products = df_cleaned.groupby('Description')['Sales'].sum().reset_index()\n",
    "\n",
    "# Sort by total Sales in descending order \n",
    "top_products = top_products.sort_values('Sales',ascending=False)\n",
    "\n",
    "# View top 10 best selling products \n",
    "top_10_products = top_products.head(10)\n",
    "print(top_10_products)"
   ]
  },
  {
   "cell_type": "code",
   "execution_count": 29,
   "id": "e12544c9-9dc3-487d-83ac-02e9d4866385",
   "metadata": {},
   "outputs": [
    {
     "data": {
      "image/png": "[encoded data removed]",
      "text/plain": [
       "<Figure size 1200x600 with 1 Axes>"
      ]
     },
     "metadata": {},
     "output_type": "display_data"
    }
   ],
   "source": [
    "# Plot Top 10 Products \n",
    "plt.figure(figsize=(12, 6))\n",
    "plt.barh(top_10_products['Description'][::-1], top_10_products['Sales'][::-1], color='mediumseagreen')\n",
    "plt.title('Top 10 Best-Selling Products')\n",
    "plt.xlabel('Total Sales (\\u00A3)')  \n",
    "plt.ylabel('Product')  \n",
    "plt.tight_layout()\n",
    "plt.show()"
   ]
  },
  {
   "cell_type": "markdown",
   "id": "951d1b63-bfb4-42c6-8e15-d3b6c4870833",
   "metadata": {},
   "source": [
    "## Sales by Country\n",
    "\n",
    "To understand the geographic distribution of revenue, I grouped total `Sales` by `Country`. This analysis highlights:\n",
    "\n",
    "- **Top-performing countries** in terms of revenue\n",
    "- Opportunities for **international market expansion**\n",
    "- Regional demand patterns that may influence supply chain and marketing strategies\n",
    "\n",
    "The bar chart below displays the top 10 countries by total sales."
   ]
  },
  {
   "cell_type": "code",
   "execution_count": 32,
   "id": "ccbfd5ec-ab7a-4723-bab6-254ba1ae9397",
   "metadata": {},
   "outputs": [
    {
     "data": {
      "text/html": [
       "<div>\n",
       "<style scoped>\n",
       "    .dataframe tbody tr th:only-of-type {\n",
       "        vertical-align: middle;\n",
       "    }\n",
       "\n",
       "    .dataframe tbody tr th {\n",
       "        vertical-align: top;\n",
       "    }\n",
       "\n",
       "    .dataframe thead th {\n",
       "        text-align: right;\n",
       "    }\n",
       "</style>\n",
       "<table border=\"1\" class=\"dataframe\">\n",
       "  <thead>\n",
       "    <tr style=\"text-align: right;\">\n",
       "      <th></th>\n",
       "      <th>Country</th>\n",
       "      <th>Sales</th>\n",
       "    </tr>\n",
       "  </thead>\n",
       "  <tbody>\n",
       "    <tr>\n",
       "      <th>0</th>\n",
       "      <td>United Kingdom</td>\n",
       "      <td>9025222.084</td>\n",
       "    </tr>\n",
       "    <tr>\n",
       "      <th>1</th>\n",
       "      <td>Netherlands</td>\n",
       "      <td>285446.340</td>\n",
       "    </tr>\n",
       "    <tr>\n",
       "      <th>2</th>\n",
       "      <td>EIRE</td>\n",
       "      <td>283453.960</td>\n",
       "    </tr>\n",
       "    <tr>\n",
       "      <th>3</th>\n",
       "      <td>Germany</td>\n",
       "      <td>228867.140</td>\n",
       "    </tr>\n",
       "    <tr>\n",
       "      <th>4</th>\n",
       "      <td>France</td>\n",
       "      <td>209715.110</td>\n",
       "    </tr>\n",
       "    <tr>\n",
       "      <th>5</th>\n",
       "      <td>Australia</td>\n",
       "      <td>138521.310</td>\n",
       "    </tr>\n",
       "    <tr>\n",
       "      <th>6</th>\n",
       "      <td>Spain</td>\n",
       "      <td>61577.110</td>\n",
       "    </tr>\n",
       "    <tr>\n",
       "      <th>7</th>\n",
       "      <td>Switzerland</td>\n",
       "      <td>57089.900</td>\n",
       "    </tr>\n",
       "    <tr>\n",
       "      <th>8</th>\n",
       "      <td>Belgium</td>\n",
       "      <td>41196.340</td>\n",
       "    </tr>\n",
       "    <tr>\n",
       "      <th>9</th>\n",
       "      <td>Sweden</td>\n",
       "      <td>38378.330</td>\n",
       "    </tr>\n",
       "  </tbody>\n",
       "</table>\n",
       "</div>"
      ],
      "text/plain": [
       "          Country        Sales\n",
       "0  United Kingdom  9025222.084\n",
       "1     Netherlands   285446.340\n",
       "2            EIRE   283453.960\n",
       "3         Germany   228867.140\n",
       "4          France   209715.110\n",
       "5       Australia   138521.310\n",
       "6           Spain    61577.110\n",
       "7     Switzerland    57089.900\n",
       "8         Belgium    41196.340\n",
       "9          Sweden    38378.330"
      ]
     },
     "execution_count": 32,
     "metadata": {},
     "output_type": "execute_result"
    }
   ],
   "source": [
    "# Group total sales by country and sort in descending order \n",
    "country_sales = df_cleaned.groupby('Country')['Sales'].sum().sort_values(ascending=False).reset_index()\n",
    "\n",
    "# Preview top 10 countries\n",
    "country_sales.head(10)"
   ]
  },
  {
   "cell_type": "code",
   "execution_count": 34,
   "id": "de7353ba-93f0-45e5-8167-dd93885a67b7",
   "metadata": {},
   "outputs": [
    {
     "data": {
      "image/png": "[encoded data removed]",
      "text/plain": [
       "<Figure size 1200x600 with 1 Axes>"
      ]
     },
     "metadata": {},
     "output_type": "display_data"
    }
   ],
   "source": [
    "# Plot the top 10 countries  by total sales \n",
    "top_countries = country_sales.head(10)\n",
    "\n",
    "plt.figure(figsize=(12, 6))\n",
    "plt.barh(top_countries['Country'][::-1], top_countries['Sales'][::-1], color='teal')\n",
    "\n",
    "plt.title('Top 10 Country by Total Sales')\n",
    "plt.xlabel('Total Sales (\\u00A3)')  \n",
    "plt.ylabel('Country')  \n",
    "plt.tight_layout()\n",
    "plt.show()"
   ]
  },
  {
   "cell_type": "markdown",
   "id": "56cda364-8567-41e1-ab94-38f0ba18b777",
   "metadata": {},
   "source": [
    "## Customer Purchase Behavior\n",
    "\n",
    "To understand customer engagement and value, I analyzed:\n",
    "\n",
    "- **Total spend per customer**\n",
    "- **Average spend per transaction**\n",
    "- **Number of orders placed** (based on unique invoice counts)\n",
    "\n",
    "This analysis provides insight into:\n",
    "- Who the **highest-value customers** are\n",
    "- How frequently customers return\n",
    "- Opportunities for **customer retention programs**, loyalty rewards, or upselling\n",
    "\n",
    "The merged dataset combines sales performance and order frequency for each customer."
   ]
  },
  {
   "cell_type": "code",
   "execution_count": 36,
   "id": "f42918d4-f15a-4546-88ab-73da5fbacdab",
   "metadata": {},
   "outputs": [
    {
     "data": {
      "text/html": [
       "<div>\n",
       "<style scoped>\n",
       "    .dataframe tbody tr th:only-of-type {\n",
       "        vertical-align: middle;\n",
       "    }\n",
       "\n",
       "    .dataframe tbody tr th {\n",
       "        vertical-align: top;\n",
       "    }\n",
       "\n",
       "    .dataframe thead th {\n",
       "        text-align: right;\n",
       "    }\n",
       "</style>\n",
       "<table border=\"1\" class=\"dataframe\">\n",
       "  <thead>\n",
       "    <tr style=\"text-align: right;\">\n",
       "      <th></th>\n",
       "      <th>CustomerID</th>\n",
       "      <th>TotalOrders</th>\n",
       "    </tr>\n",
       "  </thead>\n",
       "  <tbody>\n",
       "    <tr>\n",
       "      <th>0</th>\n",
       "      <td>12346.0</td>\n",
       "      <td>1</td>\n",
       "    </tr>\n",
       "    <tr>\n",
       "      <th>1</th>\n",
       "      <td>12347.0</td>\n",
       "      <td>7</td>\n",
       "    </tr>\n",
       "    <tr>\n",
       "      <th>2</th>\n",
       "      <td>12348.0</td>\n",
       "      <td>4</td>\n",
       "    </tr>\n",
       "    <tr>\n",
       "      <th>3</th>\n",
       "      <td>12349.0</td>\n",
       "      <td>1</td>\n",
       "    </tr>\n",
       "    <tr>\n",
       "      <th>4</th>\n",
       "      <td>12350.0</td>\n",
       "      <td>1</td>\n",
       "    </tr>\n",
       "  </tbody>\n",
       "</table>\n",
       "</div>"
      ],
      "text/plain": [
       "  CustomerID  TotalOrders\n",
       "0    12346.0            1\n",
       "1    12347.0            7\n",
       "2    12348.0            4\n",
       "3    12349.0            1\n",
       "4    12350.0            1"
      ]
     },
     "execution_count": 36,
     "metadata": {},
     "output_type": "execute_result"
    }
   ],
   "source": [
    "# Number of transaction (invoices) per customer\n",
    "orders_per_customer = df_cleaned.groupby('CustomerID')['InvoiceNo'].nunique().reset_index()\n",
    "orders_per_customer.columns = ['CustomerID', 'TotalOrders']\n",
    "\n",
    "#Preview\n",
    "orders_per_customer.head()"
   ]
  },
  {
   "cell_type": "code",
   "execution_count": 40,
   "id": "c197ba8f-cc88-475e-bc18-fbe49912e755",
   "metadata": {},
   "outputs": [
    {
     "data": {
      "text/html": [
       "<div>\n",
       "<style scoped>\n",
       "    .dataframe tbody tr th:only-of-type {\n",
       "        vertical-align: middle;\n",
       "    }\n",
       "\n",
       "    .dataframe tbody tr th {\n",
       "        vertical-align: top;\n",
       "    }\n",
       "\n",
       "    .dataframe thead th {\n",
       "        text-align: right;\n",
       "    }\n",
       "</style>\n",
       "<table border=\"1\" class=\"dataframe\">\n",
       "  <thead>\n",
       "    <tr style=\"text-align: right;\">\n",
       "      <th></th>\n",
       "      <th>CustomerID</th>\n",
       "      <th>TotalSpend</th>\n",
       "      <th>AverageSpend</th>\n",
       "      <th>TotalOrders</th>\n",
       "    </tr>\n",
       "  </thead>\n",
       "  <tbody>\n",
       "    <tr>\n",
       "      <th>0</th>\n",
       "      <td>12346.0</td>\n",
       "      <td>77183.60</td>\n",
       "      <td>77183.600000</td>\n",
       "      <td>1</td>\n",
       "    </tr>\n",
       "    <tr>\n",
       "      <th>1</th>\n",
       "      <td>12347.0</td>\n",
       "      <td>4310.00</td>\n",
       "      <td>23.681319</td>\n",
       "      <td>7</td>\n",
       "    </tr>\n",
       "    <tr>\n",
       "      <th>2</th>\n",
       "      <td>12348.0</td>\n",
       "      <td>1797.24</td>\n",
       "      <td>57.975484</td>\n",
       "      <td>4</td>\n",
       "    </tr>\n",
       "    <tr>\n",
       "      <th>3</th>\n",
       "      <td>12349.0</td>\n",
       "      <td>1757.55</td>\n",
       "      <td>24.076027</td>\n",
       "      <td>1</td>\n",
       "    </tr>\n",
       "    <tr>\n",
       "      <th>4</th>\n",
       "      <td>12350.0</td>\n",
       "      <td>334.40</td>\n",
       "      <td>19.670588</td>\n",
       "      <td>1</td>\n",
       "    </tr>\n",
       "    <tr>\n",
       "      <th>5</th>\n",
       "      <td>12352.0</td>\n",
       "      <td>2506.04</td>\n",
       "      <td>29.482824</td>\n",
       "      <td>8</td>\n",
       "    </tr>\n",
       "    <tr>\n",
       "      <th>6</th>\n",
       "      <td>12353.0</td>\n",
       "      <td>89.00</td>\n",
       "      <td>22.250000</td>\n",
       "      <td>1</td>\n",
       "    </tr>\n",
       "    <tr>\n",
       "      <th>7</th>\n",
       "      <td>12354.0</td>\n",
       "      <td>1079.40</td>\n",
       "      <td>18.610345</td>\n",
       "      <td>1</td>\n",
       "    </tr>\n",
       "    <tr>\n",
       "      <th>8</th>\n",
       "      <td>12355.0</td>\n",
       "      <td>459.40</td>\n",
       "      <td>35.338462</td>\n",
       "      <td>1</td>\n",
       "    </tr>\n",
       "    <tr>\n",
       "      <th>9</th>\n",
       "      <td>12356.0</td>\n",
       "      <td>2811.43</td>\n",
       "      <td>47.651356</td>\n",
       "      <td>3</td>\n",
       "    </tr>\n",
       "  </tbody>\n",
       "</table>\n",
       "</div>"
      ],
      "text/plain": [
       "  CustomerID  TotalSpend  AverageSpend  TotalOrders\n",
       "0    12346.0    77183.60  77183.600000            1\n",
       "1    12347.0     4310.00     23.681319            7\n",
       "2    12348.0     1797.24     57.975484            4\n",
       "3    12349.0     1757.55     24.076027            1\n",
       "4    12350.0      334.40     19.670588            1\n",
       "5    12352.0     2506.04     29.482824            8\n",
       "6    12353.0       89.00     22.250000            1\n",
       "7    12354.0     1079.40     18.610345            1\n",
       "8    12355.0      459.40     35.338462            1\n",
       "9    12356.0     2811.43     47.651356            3"
      ]
     },
     "execution_count": 40,
     "metadata": {},
     "output_type": "execute_result"
    }
   ],
   "source": [
    "# Total and average sales per customer\n",
    "spend_per_customer = df_cleaned.groupby('CustomerID')['Sales'].agg(TotalSpend='sum',AverageSpend='mean').reset_index()\n",
    "\n",
    "# Merge with order count \n",
    "customer_behavior = pd.merge(spend_per_customer, orders_per_customer, on='CustomerID')\n",
    "\n",
    "# Preview final customer behavior summary \n",
    "customer_behavior.head(10)"
   ]
  },
  {
   "cell_type": "markdown",
   "id": "d1becd8c-0b27-41e0-9399-e3ca47856d59",
   "metadata": {},
   "source": [
    "## ✅ Final Summary: Sales & Customer Insights Project\n",
    "\n",
    "This project explored retail sales data to uncover actionable insights across time trends, product performance, geographic markets, and customer behavior. After a thorough cleaning and preparation process, the following key findings emerged:\n",
    "\n",
    "---\n",
    "\n",
    "### 🔹 Time-Based Trends\n",
    "- **Monthly Sales** peaked in **November**, suggesting a strong holiday season impact.\n",
    "- **Weekday Sales** were highest between **Monday and Thursday**, while **Sunday** had the lowest volume.\n",
    "\n",
    "---\n",
    "\n",
    "### 🔹 Product-Level Insights\n",
    "- Best-selling products included **DOTCOM POSTAGE** and **REGENCY CAKESTAND 3 TIER**.\n",
    "- These items may benefit from focused marketing, bundling, or restocking priority.\n",
    "\n",
    "---\n",
    "\n",
    "### 🔹 Regional Performance\n",
    "- The **United Kingdom** dominated sales, but countries like the **Netherlands**, **Germany**, and **France** also showed strong engagement.\n",
    "- These regions offer opportunities for targeted expansion or tailored campaigns.\n",
    "\n",
    "---\n",
    "\n",
    "### 🔹 Customer Behavior\n",
    "- Most customers made only **one purchase**, but a few placed **7–8 orders**, contributing significantly to revenue.\n",
    "- **VIP customers** can be targeted for loyalty and retention strategies.\n",
    "\n",
    "---\n",
    "\n",
    "###  Next Steps\n",
    "- Build interactive dashboards (e.g., with Power BI or Tableau)\n",
    "- Predict customer churn or retention using machine learning\n",
    "- Analyze returns, cancellations, and product lifecycle trends\n",
    "\n",
    "---\n",
    "\n",
    "### Created by **Theresa Adie**\n",
    "\n"
   ]
  }
 ],
 "metadata": {
  "kernelspec": {
   "display_name": "Python 3 (ipykernel)",
   "language": "python",
   "name": "python3"
  },
  "language_info": {
   "codemirror_mode": {
    "name": "ipython",
    "version": 3
   },
   "file_extension": ".py",
   "mimetype": "text/x-python",
   "name": "python",
   "nbconvert_exporter": "python",
   "pygments_lexer": "ipython3",
   "version": "3.13.2"
  }
 },
 "nbformat": 4,
 "nbformat_minor": 5
}
